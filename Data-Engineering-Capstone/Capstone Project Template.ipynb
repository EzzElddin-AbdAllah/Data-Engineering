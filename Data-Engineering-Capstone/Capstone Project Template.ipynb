{
 "cells": [
  {
   "cell_type": "markdown",
   "metadata": {
    "editable": true
   },
   "source": [
    "# ETL with Demographics, Temperatures and City Immigration Datasets\n",
    "### Data Engineering Capstone Project\n",
    "\n",
    "#### Project Summary\n",
    "In this project we will analyze and perform ETL on US immigration data, such as what are the most popular cities for immigration, what is the gender distribution of the immigrants, what is the visa type distribution of the immigrants, what is the average age per immigrant and what is the average temperature per month per city, We have 3 data sources: I94 immigration dataset, temperature dataset from Kaggle and US demographics dataset from OpenSoft.\n",
    "\n",
    "Our final tables:\n",
    "\n",
    "4 dimension tables:\n",
    "- immigrant\n",
    "- city\n",
    "- temp\n",
    "- time\n",
    "\n",
    "1 fact table:\n",
    "- immigration\n",
    "\n",
    "The project follows the follow steps:\n",
    "* Step 1: Scope the Project and Gather Data\n",
    "* Step 2: Explore and Assess the Data\n",
    "* Step 3: Define the Data Model\n",
    "* Step 4: Run ETL to Model the Data\n",
    "* Step 5: Complete Project Write Up"
   ]
  },
  {
   "cell_type": "code",
   "execution_count": 28,
   "metadata": {
    "editable": true
   },
   "outputs": [],
   "source": [
    "import pandas as pd\n",
    "import numpy as np\n",
    "from datetime import datetime, timedelta\n",
    "from pyspark.sql import SparkSession\n",
    "from pyspark.sql.functions import month, avg, round, dayofweek, weekofyear, isnull, count, col, udf, year\n",
    "from pyspark.sql.types import StringType, IntegerType\n",
    "import os\n",
    "import glob\n",
    "import re\n"
   ]
  },
  {
   "cell_type": "code",
   "execution_count": 29,
   "metadata": {
    "editable": true
   },
   "outputs": [],
   "source": [
    "spark = SparkSession.builder.\\\n",
    "config(\"spark.jars.repositories\", \"https://repos.spark-packages.org/\").\\\n",
    "config(\"spark.jars.packages\", \"saurfang:spark-sas7bdat:2.0.0-s_2.11\").\\\n",
    "enableHiveSupport().getOrCreate()"
   ]
  },
  {
   "cell_type": "markdown",
   "metadata": {
    "editable": true
   },
   "source": [
    "### Step 1: Scope the Project and Gather Data\n",
    "\n",
    "#### Scope \n",
    "We will create 3 dimension tables, and one fact table\n",
    "\n",
    "#### Describe and Gather Data \n",
    "- I94 Immigration: US National Tourism and Trade Office \n",
    "- World Temperature: Kaggle\n",
    "- US Cities Demographic: OpenSoft"
   ]
  },
  {
   "cell_type": "code",
   "execution_count": 30,
   "metadata": {
    "editable": true
   },
   "outputs": [],
   "source": [
    "# Read i94 data\n",
    "files = glob.glob(\"../../data/18-83510-I94-Data-2016/*.sas7bdat\")\n",
    "fname = \"../../data/18-83510-I94-Data-2016/i94_apr16_sub.sas7bdat\"\n",
    "df_i94 = spark.read.format(\"com.github.saurfang.sas.spark\").load(fname)"
   ]
  },
  {
   "cell_type": "code",
   "execution_count": 31,
   "metadata": {
    "editable": true
   },
   "outputs": [],
   "source": [
    "# Read Temperatures data\n",
    "fname = \"../../data2/GlobalLandTemperaturesByCity.csv\"\n",
    "df_temp = spark.read.format(\"csv\").option(\"delimiter\", \",\").option(\"header\", \"true\").load(fname)"
   ]
  },
  {
   "cell_type": "code",
   "execution_count": 32,
   "metadata": {
    "editable": true
   },
   "outputs": [],
   "source": [
    "# Read demographics data\n",
    "fname = \"us-cities-demographics.csv\"\n",
    "df_demo = spark.read.format(\"csv\").option(\"delimiter\", \";\").option(\"header\", \"true\").load(fname)"
   ]
  },
  {
   "cell_type": "markdown",
   "metadata": {
    "editable": true
   },
   "source": [
    "### Step 2: Explore and Assess the Data\n",
    "#### Explore the Data \n",
    "- Fixing missing values\n",
    "- Fixing duplicates"
   ]
  },
  {
   "cell_type": "markdown",
   "metadata": {
    "editable": true
   },
   "source": [
    "### View first 5 rows of i94 data"
   ]
  },
  {
   "cell_type": "code",
   "execution_count": 33,
   "metadata": {
    "editable": true
   },
   "outputs": [
    {
     "data": {
      "text/html": [
       "<div>\n",
       "<style scoped>\n",
       "    .dataframe tbody tr th:only-of-type {\n",
       "        vertical-align: middle;\n",
       "    }\n",
       "\n",
       "    .dataframe tbody tr th {\n",
       "        vertical-align: top;\n",
       "    }\n",
       "\n",
       "    .dataframe thead th {\n",
       "        text-align: right;\n",
       "    }\n",
       "</style>\n",
       "<table border=\"1\" class=\"dataframe\">\n",
       "  <thead>\n",
       "    <tr style=\"text-align: right;\">\n",
       "      <th></th>\n",
       "      <th>cicid</th>\n",
       "      <th>i94yr</th>\n",
       "      <th>i94mon</th>\n",
       "      <th>i94cit</th>\n",
       "      <th>i94res</th>\n",
       "      <th>i94port</th>\n",
       "      <th>arrdate</th>\n",
       "      <th>i94mode</th>\n",
       "      <th>i94addr</th>\n",
       "      <th>depdate</th>\n",
       "      <th>...</th>\n",
       "      <th>entdepu</th>\n",
       "      <th>matflag</th>\n",
       "      <th>biryear</th>\n",
       "      <th>dtaddto</th>\n",
       "      <th>gender</th>\n",
       "      <th>insnum</th>\n",
       "      <th>airline</th>\n",
       "      <th>admnum</th>\n",
       "      <th>fltno</th>\n",
       "      <th>visatype</th>\n",
       "    </tr>\n",
       "  </thead>\n",
       "  <tbody>\n",
       "    <tr>\n",
       "      <th>0</th>\n",
       "      <td>6.0</td>\n",
       "      <td>2016.0</td>\n",
       "      <td>4.0</td>\n",
       "      <td>692.0</td>\n",
       "      <td>692.0</td>\n",
       "      <td>XXX</td>\n",
       "      <td>20573.0</td>\n",
       "      <td>NaN</td>\n",
       "      <td>None</td>\n",
       "      <td>NaN</td>\n",
       "      <td>...</td>\n",
       "      <td>U</td>\n",
       "      <td>None</td>\n",
       "      <td>1979.0</td>\n",
       "      <td>10282016</td>\n",
       "      <td>None</td>\n",
       "      <td>None</td>\n",
       "      <td>None</td>\n",
       "      <td>1.897628e+09</td>\n",
       "      <td>None</td>\n",
       "      <td>B2</td>\n",
       "    </tr>\n",
       "    <tr>\n",
       "      <th>1</th>\n",
       "      <td>7.0</td>\n",
       "      <td>2016.0</td>\n",
       "      <td>4.0</td>\n",
       "      <td>254.0</td>\n",
       "      <td>276.0</td>\n",
       "      <td>ATL</td>\n",
       "      <td>20551.0</td>\n",
       "      <td>1.0</td>\n",
       "      <td>AL</td>\n",
       "      <td>NaN</td>\n",
       "      <td>...</td>\n",
       "      <td>Y</td>\n",
       "      <td>None</td>\n",
       "      <td>1991.0</td>\n",
       "      <td>D/S</td>\n",
       "      <td>M</td>\n",
       "      <td>None</td>\n",
       "      <td>None</td>\n",
       "      <td>3.736796e+09</td>\n",
       "      <td>00296</td>\n",
       "      <td>F1</td>\n",
       "    </tr>\n",
       "    <tr>\n",
       "      <th>2</th>\n",
       "      <td>15.0</td>\n",
       "      <td>2016.0</td>\n",
       "      <td>4.0</td>\n",
       "      <td>101.0</td>\n",
       "      <td>101.0</td>\n",
       "      <td>WAS</td>\n",
       "      <td>20545.0</td>\n",
       "      <td>1.0</td>\n",
       "      <td>MI</td>\n",
       "      <td>20691.0</td>\n",
       "      <td>...</td>\n",
       "      <td>None</td>\n",
       "      <td>M</td>\n",
       "      <td>1961.0</td>\n",
       "      <td>09302016</td>\n",
       "      <td>M</td>\n",
       "      <td>None</td>\n",
       "      <td>OS</td>\n",
       "      <td>6.666432e+08</td>\n",
       "      <td>93</td>\n",
       "      <td>B2</td>\n",
       "    </tr>\n",
       "    <tr>\n",
       "      <th>3</th>\n",
       "      <td>16.0</td>\n",
       "      <td>2016.0</td>\n",
       "      <td>4.0</td>\n",
       "      <td>101.0</td>\n",
       "      <td>101.0</td>\n",
       "      <td>NYC</td>\n",
       "      <td>20545.0</td>\n",
       "      <td>1.0</td>\n",
       "      <td>MA</td>\n",
       "      <td>20567.0</td>\n",
       "      <td>...</td>\n",
       "      <td>None</td>\n",
       "      <td>M</td>\n",
       "      <td>1988.0</td>\n",
       "      <td>09302016</td>\n",
       "      <td>None</td>\n",
       "      <td>None</td>\n",
       "      <td>AA</td>\n",
       "      <td>9.246846e+10</td>\n",
       "      <td>00199</td>\n",
       "      <td>B2</td>\n",
       "    </tr>\n",
       "    <tr>\n",
       "      <th>4</th>\n",
       "      <td>17.0</td>\n",
       "      <td>2016.0</td>\n",
       "      <td>4.0</td>\n",
       "      <td>101.0</td>\n",
       "      <td>101.0</td>\n",
       "      <td>NYC</td>\n",
       "      <td>20545.0</td>\n",
       "      <td>1.0</td>\n",
       "      <td>MA</td>\n",
       "      <td>20567.0</td>\n",
       "      <td>...</td>\n",
       "      <td>None</td>\n",
       "      <td>M</td>\n",
       "      <td>2012.0</td>\n",
       "      <td>09302016</td>\n",
       "      <td>None</td>\n",
       "      <td>None</td>\n",
       "      <td>AA</td>\n",
       "      <td>9.246846e+10</td>\n",
       "      <td>00199</td>\n",
       "      <td>B2</td>\n",
       "    </tr>\n",
       "  </tbody>\n",
       "</table>\n",
       "<p>5 rows × 28 columns</p>\n",
       "</div>"
      ],
      "text/plain": [
       "   cicid   i94yr  i94mon  i94cit  i94res i94port  arrdate  i94mode i94addr  \\\n",
       "0    6.0  2016.0     4.0   692.0   692.0     XXX  20573.0      NaN    None   \n",
       "1    7.0  2016.0     4.0   254.0   276.0     ATL  20551.0      1.0      AL   \n",
       "2   15.0  2016.0     4.0   101.0   101.0     WAS  20545.0      1.0      MI   \n",
       "3   16.0  2016.0     4.0   101.0   101.0     NYC  20545.0      1.0      MA   \n",
       "4   17.0  2016.0     4.0   101.0   101.0     NYC  20545.0      1.0      MA   \n",
       "\n",
       "   depdate   ...     entdepu  matflag  biryear   dtaddto gender insnum  \\\n",
       "0      NaN   ...           U     None   1979.0  10282016   None   None   \n",
       "1      NaN   ...           Y     None   1991.0       D/S      M   None   \n",
       "2  20691.0   ...        None        M   1961.0  09302016      M   None   \n",
       "3  20567.0   ...        None        M   1988.0  09302016   None   None   \n",
       "4  20567.0   ...        None        M   2012.0  09302016   None   None   \n",
       "\n",
       "  airline        admnum  fltno visatype  \n",
       "0    None  1.897628e+09   None       B2  \n",
       "1    None  3.736796e+09  00296       F1  \n",
       "2      OS  6.666432e+08     93       B2  \n",
       "3      AA  9.246846e+10  00199       B2  \n",
       "4      AA  9.246846e+10  00199       B2  \n",
       "\n",
       "[5 rows x 28 columns]"
      ]
     },
     "execution_count": 33,
     "metadata": {},
     "output_type": "execute_result"
    }
   ],
   "source": [
    "df_i94.limit(5).toPandas()"
   ]
  },
  {
   "cell_type": "markdown",
   "metadata": {
    "editable": true
   },
   "source": [
    "### Create udf to convert to pyspark date "
   ]
  },
  {
   "cell_type": "code",
   "execution_count": 34,
   "metadata": {
    "editable": true
   },
   "outputs": [],
   "source": [
    "@udf(StringType())\n",
    "def convert_datetime(x):\n",
    "    if x:\n",
    "        return (datetime(1960, 1, 1).date() + timedelta(x)).isoformat()\n",
    "    return None"
   ]
  },
  {
   "cell_type": "markdown",
   "metadata": {
    "editable": true
   },
   "source": [
    "### Clean i94 data"
   ]
  },
  {
   "cell_type": "code",
   "execution_count": 35,
   "metadata": {
    "editable": true
   },
   "outputs": [],
   "source": [
    "def i94_cleaning(df_i94):\n",
    "    df_i94.dropna()\n",
    "    df_i94.drop_duplicates()\n",
    "    \n",
    "    df_i94 = df_i94.withColumn(\"arrdate\", convert_datetime(df_i94.arrdate))\n",
    "    \n",
    "    df_i94 = df_i94.filter(df_i94.i94addr != 'other')\n",
    "    \n",
    "    df_i94 = df_i94.select(col(\"i94port\").alias(\"c_code\"),\n",
    "                       col(\"i94addr\").alias(\"s_code\"),\n",
    "                       col(\"i94bir\").alias(\"age\"),\n",
    "                       col(\"cicid\").alias(\"id\"), \n",
    "                       col(\"arrdate\").alias(\"date\"),\n",
    "                       col(\"gender\").alias(\"gender\"),\n",
    "                       col(\"i94visa\").alias(\"v_type\"),\n",
    "                       \"count\")\n",
    "    return df_i94\n",
    "\n",
    "df_i94 = i94_cleaning(df_i94)"
   ]
  },
  {
   "cell_type": "markdown",
   "metadata": {
    "editable": true
   },
   "source": [
    "### Show first 5 rows to ensure it's i94 data is now right"
   ]
  },
  {
   "cell_type": "code",
   "execution_count": 36,
   "metadata": {
    "editable": true
   },
   "outputs": [
    {
     "data": {
      "text/html": [
       "<div>\n",
       "<style scoped>\n",
       "    .dataframe tbody tr th:only-of-type {\n",
       "        vertical-align: middle;\n",
       "    }\n",
       "\n",
       "    .dataframe tbody tr th {\n",
       "        vertical-align: top;\n",
       "    }\n",
       "\n",
       "    .dataframe thead th {\n",
       "        text-align: right;\n",
       "    }\n",
       "</style>\n",
       "<table border=\"1\" class=\"dataframe\">\n",
       "  <thead>\n",
       "    <tr style=\"text-align: right;\">\n",
       "      <th></th>\n",
       "      <th>c_code</th>\n",
       "      <th>s_code</th>\n",
       "      <th>age</th>\n",
       "      <th>id</th>\n",
       "      <th>date</th>\n",
       "      <th>gender</th>\n",
       "      <th>v_type</th>\n",
       "      <th>count</th>\n",
       "    </tr>\n",
       "  </thead>\n",
       "  <tbody>\n",
       "    <tr>\n",
       "      <th>0</th>\n",
       "      <td>ATL</td>\n",
       "      <td>AL</td>\n",
       "      <td>25.0</td>\n",
       "      <td>7.0</td>\n",
       "      <td>2016-04-07</td>\n",
       "      <td>M</td>\n",
       "      <td>3.0</td>\n",
       "      <td>1.0</td>\n",
       "    </tr>\n",
       "    <tr>\n",
       "      <th>1</th>\n",
       "      <td>WAS</td>\n",
       "      <td>MI</td>\n",
       "      <td>55.0</td>\n",
       "      <td>15.0</td>\n",
       "      <td>2016-04-01</td>\n",
       "      <td>M</td>\n",
       "      <td>2.0</td>\n",
       "      <td>1.0</td>\n",
       "    </tr>\n",
       "    <tr>\n",
       "      <th>2</th>\n",
       "      <td>NYC</td>\n",
       "      <td>MA</td>\n",
       "      <td>28.0</td>\n",
       "      <td>16.0</td>\n",
       "      <td>2016-04-01</td>\n",
       "      <td>None</td>\n",
       "      <td>2.0</td>\n",
       "      <td>1.0</td>\n",
       "    </tr>\n",
       "    <tr>\n",
       "      <th>3</th>\n",
       "      <td>NYC</td>\n",
       "      <td>MA</td>\n",
       "      <td>4.0</td>\n",
       "      <td>17.0</td>\n",
       "      <td>2016-04-01</td>\n",
       "      <td>None</td>\n",
       "      <td>2.0</td>\n",
       "      <td>1.0</td>\n",
       "    </tr>\n",
       "    <tr>\n",
       "      <th>4</th>\n",
       "      <td>NYC</td>\n",
       "      <td>MI</td>\n",
       "      <td>57.0</td>\n",
       "      <td>18.0</td>\n",
       "      <td>2016-04-01</td>\n",
       "      <td>None</td>\n",
       "      <td>1.0</td>\n",
       "      <td>1.0</td>\n",
       "    </tr>\n",
       "  </tbody>\n",
       "</table>\n",
       "</div>"
      ],
      "text/plain": [
       "  c_code s_code   age    id        date gender  v_type  count\n",
       "0    ATL     AL  25.0   7.0  2016-04-07      M     3.0    1.0\n",
       "1    WAS     MI  55.0  15.0  2016-04-01      M     2.0    1.0\n",
       "2    NYC     MA  28.0  16.0  2016-04-01   None     2.0    1.0\n",
       "3    NYC     MA   4.0  17.0  2016-04-01   None     2.0    1.0\n",
       "4    NYC     MI  57.0  18.0  2016-04-01   None     1.0    1.0"
      ]
     },
     "execution_count": 36,
     "metadata": {},
     "output_type": "execute_result"
    }
   ],
   "source": [
    "df_i94.limit(5).toPandas()"
   ]
  },
  {
   "cell_type": "markdown",
   "metadata": {
    "editable": true
   },
   "source": [
    "### Show first 5 rows of Temperatures data"
   ]
  },
  {
   "cell_type": "code",
   "execution_count": 37,
   "metadata": {
    "editable": true
   },
   "outputs": [
    {
     "data": {
      "text/html": [
       "<div>\n",
       "<style scoped>\n",
       "    .dataframe tbody tr th:only-of-type {\n",
       "        vertical-align: middle;\n",
       "    }\n",
       "\n",
       "    .dataframe tbody tr th {\n",
       "        vertical-align: top;\n",
       "    }\n",
       "\n",
       "    .dataframe thead th {\n",
       "        text-align: right;\n",
       "    }\n",
       "</style>\n",
       "<table border=\"1\" class=\"dataframe\">\n",
       "  <thead>\n",
       "    <tr style=\"text-align: right;\">\n",
       "      <th></th>\n",
       "      <th>dt</th>\n",
       "      <th>AverageTemperature</th>\n",
       "      <th>AverageTemperatureUncertainty</th>\n",
       "      <th>City</th>\n",
       "      <th>Country</th>\n",
       "      <th>Latitude</th>\n",
       "      <th>Longitude</th>\n",
       "    </tr>\n",
       "  </thead>\n",
       "  <tbody>\n",
       "    <tr>\n",
       "      <th>0</th>\n",
       "      <td>1743-11-01</td>\n",
       "      <td>6.068</td>\n",
       "      <td>1.7369999999999999</td>\n",
       "      <td>Århus</td>\n",
       "      <td>Denmark</td>\n",
       "      <td>57.05N</td>\n",
       "      <td>10.33E</td>\n",
       "    </tr>\n",
       "    <tr>\n",
       "      <th>1</th>\n",
       "      <td>1743-12-01</td>\n",
       "      <td>None</td>\n",
       "      <td>None</td>\n",
       "      <td>Århus</td>\n",
       "      <td>Denmark</td>\n",
       "      <td>57.05N</td>\n",
       "      <td>10.33E</td>\n",
       "    </tr>\n",
       "    <tr>\n",
       "      <th>2</th>\n",
       "      <td>1744-01-01</td>\n",
       "      <td>None</td>\n",
       "      <td>None</td>\n",
       "      <td>Århus</td>\n",
       "      <td>Denmark</td>\n",
       "      <td>57.05N</td>\n",
       "      <td>10.33E</td>\n",
       "    </tr>\n",
       "    <tr>\n",
       "      <th>3</th>\n",
       "      <td>1744-02-01</td>\n",
       "      <td>None</td>\n",
       "      <td>None</td>\n",
       "      <td>Århus</td>\n",
       "      <td>Denmark</td>\n",
       "      <td>57.05N</td>\n",
       "      <td>10.33E</td>\n",
       "    </tr>\n",
       "    <tr>\n",
       "      <th>4</th>\n",
       "      <td>1744-03-01</td>\n",
       "      <td>None</td>\n",
       "      <td>None</td>\n",
       "      <td>Århus</td>\n",
       "      <td>Denmark</td>\n",
       "      <td>57.05N</td>\n",
       "      <td>10.33E</td>\n",
       "    </tr>\n",
       "  </tbody>\n",
       "</table>\n",
       "</div>"
      ],
      "text/plain": [
       "           dt AverageTemperature AverageTemperatureUncertainty   City  \\\n",
       "0  1743-11-01              6.068            1.7369999999999999  Århus   \n",
       "1  1743-12-01               None                          None  Århus   \n",
       "2  1744-01-01               None                          None  Århus   \n",
       "3  1744-02-01               None                          None  Århus   \n",
       "4  1744-03-01               None                          None  Århus   \n",
       "\n",
       "   Country Latitude Longitude  \n",
       "0  Denmark   57.05N    10.33E  \n",
       "1  Denmark   57.05N    10.33E  \n",
       "2  Denmark   57.05N    10.33E  \n",
       "3  Denmark   57.05N    10.33E  \n",
       "4  Denmark   57.05N    10.33E  "
      ]
     },
     "execution_count": 37,
     "metadata": {},
     "output_type": "execute_result"
    }
   ],
   "source": [
    "df_temp.limit(5).toPandas()"
   ]
  },
  {
   "cell_type": "markdown",
   "metadata": {
    "editable": true
   },
   "source": [
    "### Read and create list of valid prots"
   ]
  },
  {
   "cell_type": "code",
   "execution_count": 38,
   "metadata": {
    "editable": true
   },
   "outputs": [],
   "source": [
    "fname = \"I94_SAS_Labels_Descriptions.SAS\"\n",
    "with open(fname) as fp:\n",
    "    all_lines = fp.readlines()\n",
    "\n",
    "re_after = re.compile(r\"\\'(.*)\\'.*\\'(.*)\\'\")\n",
    "valid_ports = {}\n",
    "for l in all_lines[302:961]:\n",
    "    valid_ports[re_after.search(l).group(1)] = re_after.search(l).group(2)"
   ]
  },
  {
   "cell_type": "markdown",
   "metadata": {
    "editable": true
   },
   "source": [
    "### Create udf to validate state"
   ]
  },
  {
   "cell_type": "code",
   "execution_count": 39,
   "metadata": {
    "editable": true
   },
   "outputs": [],
   "source": [
    "@udf(StringType())\n",
    "def convert_city_to_port(city):\n",
    "    for key in valid_ports:\n",
    "        if city.lower() in valid_ports[key].lower():\n",
    "            return key"
   ]
  },
  {
   "cell_type": "markdown",
   "metadata": {
    "editable": true
   },
   "source": [
    "### Clean Temprature data"
   ]
  },
  {
   "cell_type": "code",
   "execution_count": 40,
   "metadata": {
    "editable": true
   },
   "outputs": [],
   "source": [
    "def temp_cleaning(df_temp):\n",
    "    df_temp = df_temp.filter(df_temp[\"Country\"] == \"United States\") \\\n",
    "    .withColumn(\"year\", year(df_temp['dt'])) \\\n",
    "    .withColumn(\"month\", month(df_temp[\"dt\"])) \\\n",
    "    .withColumn(\"i94port\", convert_city_to_port(df_temp[\"City\"])) \\\n",
    "    .withColumn(\"AverageTemperature\", col(\"AverageTemperature\").cast(\"float\")) \\\n",
    "    .dropna(how='any', subset=[\"i94port\"])\n",
    "    \n",
    "    df_temp = df_temp.filter(df_temp[\"year\"] == 2013)\n",
    "    \n",
    "    df_temp = df_temp.select(col(\"year\"), \n",
    "                         col(\"month\"), \n",
    "                         col(\"i94port\").alias(\"c_code\"),\n",
    "                         col(\"AverageTemperature\").alias(\"avg_temperature\"),\n",
    "                         col(\"Latitude\").alias(\"lat\"), \n",
    "                         col(\"Longitude\").alias(\"long\")).drop_duplicates()\n",
    "    return df_temp\n",
    "\n",
    "df_temp = temp_cleaning(df_temp)"
   ]
  },
  {
   "cell_type": "markdown",
   "metadata": {
    "editable": true
   },
   "source": [
    "### Show first 5 rows of Tempratures data"
   ]
  },
  {
   "cell_type": "code",
   "execution_count": 41,
   "metadata": {
    "editable": true
   },
   "outputs": [
    {
     "data": {
      "text/html": [
       "<div>\n",
       "<style scoped>\n",
       "    .dataframe tbody tr th:only-of-type {\n",
       "        vertical-align: middle;\n",
       "    }\n",
       "\n",
       "    .dataframe tbody tr th {\n",
       "        vertical-align: top;\n",
       "    }\n",
       "\n",
       "    .dataframe thead th {\n",
       "        text-align: right;\n",
       "    }\n",
       "</style>\n",
       "<table border=\"1\" class=\"dataframe\">\n",
       "  <thead>\n",
       "    <tr style=\"text-align: right;\">\n",
       "      <th></th>\n",
       "      <th>year</th>\n",
       "      <th>month</th>\n",
       "      <th>c_code</th>\n",
       "      <th>avg_temperature</th>\n",
       "      <th>lat</th>\n",
       "      <th>long</th>\n",
       "    </tr>\n",
       "  </thead>\n",
       "  <tbody>\n",
       "    <tr>\n",
       "      <th>0</th>\n",
       "      <td>2013</td>\n",
       "      <td>1</td>\n",
       "      <td>CHI</td>\n",
       "      <td>1.056000</td>\n",
       "      <td>42.59N</td>\n",
       "      <td>87.27W</td>\n",
       "    </tr>\n",
       "    <tr>\n",
       "      <th>1</th>\n",
       "      <td>2013</td>\n",
       "      <td>5</td>\n",
       "      <td>RFD</td>\n",
       "      <td>16.014999</td>\n",
       "      <td>42.59N</td>\n",
       "      <td>89.45W</td>\n",
       "    </tr>\n",
       "    <tr>\n",
       "      <th>2</th>\n",
       "      <td>2013</td>\n",
       "      <td>4</td>\n",
       "      <td>SRQ</td>\n",
       "      <td>16.259001</td>\n",
       "      <td>32.95N</td>\n",
       "      <td>96.70W</td>\n",
       "    </tr>\n",
       "    <tr>\n",
       "      <th>3</th>\n",
       "      <td>2013</td>\n",
       "      <td>2</td>\n",
       "      <td>MHT</td>\n",
       "      <td>-3.314000</td>\n",
       "      <td>42.59N</td>\n",
       "      <td>72.00W</td>\n",
       "    </tr>\n",
       "    <tr>\n",
       "      <th>4</th>\n",
       "      <td>2013</td>\n",
       "      <td>6</td>\n",
       "      <td>MIL</td>\n",
       "      <td>17.913000</td>\n",
       "      <td>42.59N</td>\n",
       "      <td>87.27W</td>\n",
       "    </tr>\n",
       "  </tbody>\n",
       "</table>\n",
       "</div>"
      ],
      "text/plain": [
       "   year  month c_code  avg_temperature     lat    long\n",
       "0  2013      1    CHI         1.056000  42.59N  87.27W\n",
       "1  2013      5    RFD        16.014999  42.59N  89.45W\n",
       "2  2013      4    SRQ        16.259001  32.95N  96.70W\n",
       "3  2013      2    MHT        -3.314000  42.59N  72.00W\n",
       "4  2013      6    MIL        17.913000  42.59N  87.27W"
      ]
     },
     "execution_count": 41,
     "metadata": {},
     "output_type": "execute_result"
    }
   ],
   "source": [
    "df_temp.limit(5).toPandas()"
   ]
  },
  {
   "cell_type": "markdown",
   "metadata": {
    "editable": true
   },
   "source": [
    "### Show first 5 rows of Demographics data"
   ]
  },
  {
   "cell_type": "code",
   "execution_count": 42,
   "metadata": {
    "editable": true
   },
   "outputs": [
    {
     "data": {
      "text/html": [
       "<div>\n",
       "<style scoped>\n",
       "    .dataframe tbody tr th:only-of-type {\n",
       "        vertical-align: middle;\n",
       "    }\n",
       "\n",
       "    .dataframe tbody tr th {\n",
       "        vertical-align: top;\n",
       "    }\n",
       "\n",
       "    .dataframe thead th {\n",
       "        text-align: right;\n",
       "    }\n",
       "</style>\n",
       "<table border=\"1\" class=\"dataframe\">\n",
       "  <thead>\n",
       "    <tr style=\"text-align: right;\">\n",
       "      <th></th>\n",
       "      <th>City</th>\n",
       "      <th>State</th>\n",
       "      <th>Median Age</th>\n",
       "      <th>Male Population</th>\n",
       "      <th>Female Population</th>\n",
       "      <th>Total Population</th>\n",
       "      <th>Number of Veterans</th>\n",
       "      <th>Foreign-born</th>\n",
       "      <th>Average Household Size</th>\n",
       "      <th>State Code</th>\n",
       "      <th>Race</th>\n",
       "      <th>Count</th>\n",
       "    </tr>\n",
       "  </thead>\n",
       "  <tbody>\n",
       "    <tr>\n",
       "      <th>0</th>\n",
       "      <td>Silver Spring</td>\n",
       "      <td>Maryland</td>\n",
       "      <td>33.8</td>\n",
       "      <td>40601</td>\n",
       "      <td>41862</td>\n",
       "      <td>82463</td>\n",
       "      <td>1562</td>\n",
       "      <td>30908</td>\n",
       "      <td>2.6</td>\n",
       "      <td>MD</td>\n",
       "      <td>Hispanic or Latino</td>\n",
       "      <td>25924</td>\n",
       "    </tr>\n",
       "    <tr>\n",
       "      <th>1</th>\n",
       "      <td>Quincy</td>\n",
       "      <td>Massachusetts</td>\n",
       "      <td>41.0</td>\n",
       "      <td>44129</td>\n",
       "      <td>49500</td>\n",
       "      <td>93629</td>\n",
       "      <td>4147</td>\n",
       "      <td>32935</td>\n",
       "      <td>2.39</td>\n",
       "      <td>MA</td>\n",
       "      <td>White</td>\n",
       "      <td>58723</td>\n",
       "    </tr>\n",
       "    <tr>\n",
       "      <th>2</th>\n",
       "      <td>Hoover</td>\n",
       "      <td>Alabama</td>\n",
       "      <td>38.5</td>\n",
       "      <td>38040</td>\n",
       "      <td>46799</td>\n",
       "      <td>84839</td>\n",
       "      <td>4819</td>\n",
       "      <td>8229</td>\n",
       "      <td>2.58</td>\n",
       "      <td>AL</td>\n",
       "      <td>Asian</td>\n",
       "      <td>4759</td>\n",
       "    </tr>\n",
       "    <tr>\n",
       "      <th>3</th>\n",
       "      <td>Rancho Cucamonga</td>\n",
       "      <td>California</td>\n",
       "      <td>34.5</td>\n",
       "      <td>88127</td>\n",
       "      <td>87105</td>\n",
       "      <td>175232</td>\n",
       "      <td>5821</td>\n",
       "      <td>33878</td>\n",
       "      <td>3.18</td>\n",
       "      <td>CA</td>\n",
       "      <td>Black or African-American</td>\n",
       "      <td>24437</td>\n",
       "    </tr>\n",
       "    <tr>\n",
       "      <th>4</th>\n",
       "      <td>Newark</td>\n",
       "      <td>New Jersey</td>\n",
       "      <td>34.6</td>\n",
       "      <td>138040</td>\n",
       "      <td>143873</td>\n",
       "      <td>281913</td>\n",
       "      <td>5829</td>\n",
       "      <td>86253</td>\n",
       "      <td>2.73</td>\n",
       "      <td>NJ</td>\n",
       "      <td>White</td>\n",
       "      <td>76402</td>\n",
       "    </tr>\n",
       "  </tbody>\n",
       "</table>\n",
       "</div>"
      ],
      "text/plain": [
       "               City          State Median Age Male Population  \\\n",
       "0     Silver Spring       Maryland       33.8           40601   \n",
       "1            Quincy  Massachusetts       41.0           44129   \n",
       "2            Hoover        Alabama       38.5           38040   \n",
       "3  Rancho Cucamonga     California       34.5           88127   \n",
       "4            Newark     New Jersey       34.6          138040   \n",
       "\n",
       "  Female Population Total Population Number of Veterans Foreign-born  \\\n",
       "0             41862            82463               1562        30908   \n",
       "1             49500            93629               4147        32935   \n",
       "2             46799            84839               4819         8229   \n",
       "3             87105           175232               5821        33878   \n",
       "4            143873           281913               5829        86253   \n",
       "\n",
       "  Average Household Size State Code                       Race  Count  \n",
       "0                    2.6         MD         Hispanic or Latino  25924  \n",
       "1                   2.39         MA                      White  58723  \n",
       "2                   2.58         AL                      Asian   4759  \n",
       "3                   3.18         CA  Black or African-American  24437  \n",
       "4                   2.73         NJ                      White  76402  "
      ]
     },
     "execution_count": 42,
     "metadata": {},
     "output_type": "execute_result"
    }
   ],
   "source": [
    "df_demo.limit(5).toPandas()"
   ]
  },
  {
   "cell_type": "markdown",
   "metadata": {
    "editable": true
   },
   "source": [
    "### Clean Demographics data"
   ]
  },
  {
   "cell_type": "code",
   "execution_count": 43,
   "metadata": {
    "editable": true
   },
   "outputs": [],
   "source": [
    "def demo_cleaning(df_demo):\n",
    "    df_demo = df_demo.withColumn(\"median_age\", df_demo['Median Age']) \\\n",
    "    .withColumn(\"pct_male_pop\", (df_demo['Male Population'] / df_demo['Total Population']) * 100) \\\n",
    "    .withColumn(\"pct_female_pop\", (df_demo['Female Population'] / df_demo['Total Population']) * 100) \\\n",
    "    .withColumn(\"pct_veterans\", (df_demo['Number of Veterans'] / df_demo['Total Population']) * 100) \\\n",
    "    .withColumn(\"pct_foreign_born\", (df_demo['Foreign-born'] / df_demo['Total Population']) * 100) \\\n",
    "    .withColumn(\"pct_race\", (df_demo['Count'] / df_demo['Total Population']) * 100) \\\n",
    "    .withColumn(\"c_code\", convert_city_to_port(df_demo[\"City\"])) \\\n",
    "    .dropna(how='any', subset=[\"c_code\"])\n",
    "    \n",
    "    df_demo = df_demo.select(col(\"City\").alias(\"c_name\"), col(\"State Code\").alias(\"s_code\"), \n",
    "                         \"median_age\", \"pct_male_pop\", \"pct_female_pop\",\"pct_veterans\", \n",
    "                         \"pct_foreign_born\", col(\"Total Population\").alias(\"total_pop\"), \n",
    "                         col(\"Race\").alias(\"race\"), \"pct_race\").drop_duplicates()\n",
    "    \n",
    "    df_demo = df_demo.groupBy(\"c_name\", \"s_code\", \"median_age\", \"pct_male_pop\",\"pct_female_pop\",\"pct_veterans\", \n",
    "                          \"pct_foreign_born\", \"total_pop\").pivot(\"Race\").avg(\"pct_race\")\n",
    "\n",
    "    df_demo = df_demo.withColumn(\"c_code\", convert_city_to_port(df_demo[\"c_name\"])) \\\n",
    "        .dropna(how='any', subset=[\"c_code\"])\n",
    "    \n",
    "    df_demo = df_demo.select(\"c_code\", \"s_code\", \"c_name\", \"median_age\",\n",
    "                         col(\"pct_male_pop\").alias(\"pct_male_pop\"),\n",
    "                         col(\"pct_female_pop\").alias(\"pct_female_pop\"),\n",
    "                         col(\"pct_veterans\").alias(\"pct_veterans\"),\n",
    "                         col(\"pct_veterans\").alias(\"pct_foreign_born\"),\n",
    "                         col(\"American Indian and Alaska Native\").alias(\"pct_native_american\"),\n",
    "                         col(\"Asian\").alias(\"pct_asian\"),\n",
    "                         col(\"Black or African-American\").alias(\"pct_black\"),\n",
    "                         col(\"Hispanic or Latino\").alias(\"pct_hispanic_or_latino\"),\n",
    "                         col(\"White\").alias(\"pct_white\"), \"total_pop\")\n",
    "    return df_demo\n",
    "\n",
    "df_demo = demo_cleaning(df_demo)"
   ]
  },
  {
   "cell_type": "markdown",
   "metadata": {
    "editable": true
   },
   "source": [
    "### Show first 5 rows"
   ]
  },
  {
   "cell_type": "code",
   "execution_count": 44,
   "metadata": {
    "editable": true
   },
   "outputs": [
    {
     "data": {
      "text/html": [
       "<div>\n",
       "<style scoped>\n",
       "    .dataframe tbody tr th:only-of-type {\n",
       "        vertical-align: middle;\n",
       "    }\n",
       "\n",
       "    .dataframe tbody tr th {\n",
       "        vertical-align: top;\n",
       "    }\n",
       "\n",
       "    .dataframe thead th {\n",
       "        text-align: right;\n",
       "    }\n",
       "</style>\n",
       "<table border=\"1\" class=\"dataframe\">\n",
       "  <thead>\n",
       "    <tr style=\"text-align: right;\">\n",
       "      <th></th>\n",
       "      <th>c_code</th>\n",
       "      <th>s_code</th>\n",
       "      <th>c_name</th>\n",
       "      <th>median_age</th>\n",
       "      <th>pct_male_pop</th>\n",
       "      <th>pct_female_pop</th>\n",
       "      <th>pct_veterans</th>\n",
       "      <th>pct_foreign_born</th>\n",
       "      <th>pct_native_american</th>\n",
       "      <th>pct_asian</th>\n",
       "      <th>pct_black</th>\n",
       "      <th>pct_hispanic_or_latino</th>\n",
       "      <th>pct_white</th>\n",
       "      <th>total_pop</th>\n",
       "    </tr>\n",
       "  </thead>\n",
       "  <tbody>\n",
       "    <tr>\n",
       "      <th>0</th>\n",
       "      <td>TUC</td>\n",
       "      <td>AZ</td>\n",
       "      <td>Tucson</td>\n",
       "      <td>33.6</td>\n",
       "      <td>49.822448</td>\n",
       "      <td>50.177552</td>\n",
       "      <td>7.181468</td>\n",
       "      <td>7.181468</td>\n",
       "      <td>4.590971</td>\n",
       "      <td>4.643635</td>\n",
       "      <td>6.376088</td>\n",
       "      <td>43.452379</td>\n",
       "      <td>76.050738</td>\n",
       "      <td>531674</td>\n",
       "    </tr>\n",
       "    <tr>\n",
       "      <th>1</th>\n",
       "      <td>MCA</td>\n",
       "      <td>TX</td>\n",
       "      <td>Allen</td>\n",
       "      <td>37.2</td>\n",
       "      <td>52.297785</td>\n",
       "      <td>47.702215</td>\n",
       "      <td>3.571501</td>\n",
       "      <td>3.571501</td>\n",
       "      <td>0.231307</td>\n",
       "      <td>16.089588</td>\n",
       "      <td>13.389309</td>\n",
       "      <td>10.816401</td>\n",
       "      <td>71.165094</td>\n",
       "      <td>98138</td>\n",
       "    </tr>\n",
       "    <tr>\n",
       "      <th>2</th>\n",
       "      <td>CRP</td>\n",
       "      <td>TX</td>\n",
       "      <td>Corpus Christi</td>\n",
       "      <td>35.0</td>\n",
       "      <td>49.520800</td>\n",
       "      <td>50.479200</td>\n",
       "      <td>7.738165</td>\n",
       "      <td>7.738165</td>\n",
       "      <td>0.917052</td>\n",
       "      <td>2.792812</td>\n",
       "      <td>4.621670</td>\n",
       "      <td>61.940188</td>\n",
       "      <td>90.305231</td>\n",
       "      <td>324082</td>\n",
       "    </tr>\n",
       "    <tr>\n",
       "      <th>3</th>\n",
       "      <td>FMY</td>\n",
       "      <td>FL</td>\n",
       "      <td>Fort Myers</td>\n",
       "      <td>37.3</td>\n",
       "      <td>49.787205</td>\n",
       "      <td>50.212795</td>\n",
       "      <td>5.825846</td>\n",
       "      <td>5.825846</td>\n",
       "      <td>NaN</td>\n",
       "      <td>4.754442</td>\n",
       "      <td>23.370938</td>\n",
       "      <td>24.138350</td>\n",
       "      <td>67.782206</td>\n",
       "      <td>74015</td>\n",
       "    </tr>\n",
       "    <tr>\n",
       "      <th>4</th>\n",
       "      <td>ORL</td>\n",
       "      <td>FL</td>\n",
       "      <td>Orlando</td>\n",
       "      <td>33.1</td>\n",
       "      <td>48.332146</td>\n",
       "      <td>51.667854</td>\n",
       "      <td>4.718050</td>\n",
       "      <td>4.718050</td>\n",
       "      <td>0.876283</td>\n",
       "      <td>4.106055</td>\n",
       "      <td>25.129837</td>\n",
       "      <td>32.964340</td>\n",
       "      <td>66.116560</td>\n",
       "      <td>270917</td>\n",
       "    </tr>\n",
       "  </tbody>\n",
       "</table>\n",
       "</div>"
      ],
      "text/plain": [
       "  c_code s_code          c_name median_age  pct_male_pop  pct_female_pop  \\\n",
       "0    TUC     AZ          Tucson       33.6     49.822448       50.177552   \n",
       "1    MCA     TX           Allen       37.2     52.297785       47.702215   \n",
       "2    CRP     TX  Corpus Christi       35.0     49.520800       50.479200   \n",
       "3    FMY     FL      Fort Myers       37.3     49.787205       50.212795   \n",
       "4    ORL     FL         Orlando       33.1     48.332146       51.667854   \n",
       "\n",
       "   pct_veterans  pct_foreign_born  pct_native_american  pct_asian  pct_black  \\\n",
       "0      7.181468          7.181468             4.590971   4.643635   6.376088   \n",
       "1      3.571501          3.571501             0.231307  16.089588  13.389309   \n",
       "2      7.738165          7.738165             0.917052   2.792812   4.621670   \n",
       "3      5.825846          5.825846                  NaN   4.754442  23.370938   \n",
       "4      4.718050          4.718050             0.876283   4.106055  25.129837   \n",
       "\n",
       "   pct_hispanic_or_latino  pct_white total_pop  \n",
       "0               43.452379  76.050738    531674  \n",
       "1               10.816401  71.165094     98138  \n",
       "2               61.940188  90.305231    324082  \n",
       "3               24.138350  67.782206     74015  \n",
       "4               32.964340  66.116560    270917  "
      ]
     },
     "execution_count": 44,
     "metadata": {},
     "output_type": "execute_result"
    }
   ],
   "source": [
    "df_demo.limit(5).toPandas()"
   ]
  },
  {
   "cell_type": "markdown",
   "metadata": {
    "editable": true
   },
   "source": [
    "### Step 3: Define the Data Model\n",
    "#### 3.1 Conceptual Data Model\n",
    "We chosed a star schema as our schema, because it's a simple schema, but also very efficient, we can do many joins with our tables, and analyze the result easliy\n",
    "\n",
    "#### 3.2 Mapping Out Data Pipelines\n",
    "We need several steps to ensure our data pipeline runs without any issuse\n",
    "- remove nans\n",
    "- remove duplicates\n",
    "- create dimension tables\n",
    "- create fact table\n",
    "- save all these tables into parquet file"
   ]
  },
  {
   "cell_type": "markdown",
   "metadata": {
    "editable": true
   },
   "source": [
    "### Step 4: Run Pipelines to Model the Data \n",
    "#### 4.1 Create the data model\n",
    "Build the data pipelines to create the data model."
   ]
  },
  {
   "cell_type": "markdown",
   "metadata": {
    "editable": true
   },
   "source": [
    "### Create immigrant (Dimension Table)"
   ]
  },
  {
   "cell_type": "code",
   "execution_count": 45,
   "metadata": {
    "editable": true
   },
   "outputs": [],
   "source": [
    "df_immigrant = df_i94.select(\"id\", \"gender\", \"age\", \"v_type\").drop_duplicates()"
   ]
  },
  {
   "cell_type": "markdown",
   "metadata": {
    "editable": true
   },
   "source": [
    "### Create city (Dimension Table)"
   ]
  },
  {
   "cell_type": "code",
   "execution_count": 46,
   "metadata": {
    "editable": true
   },
   "outputs": [],
   "source": [
    "df_city = df_demo.join(df_temp, \"c_code\").select(\"c_code\", \"s_code\", \"c_name\", \n",
    "                                                 \"median_age\", \"pct_male_pop\", \"pct_female_pop\", \"pct_veterans\",\n",
    "                                                 \"pct_foreign_born\", \"pct_native_american\", \"pct_asian\", \"pct_black\",\n",
    "                                                 \"pct_hispanic_or_latino\", \"pct_white\", \"total_pop\", \"lat\", \"long\").drop_duplicates()"
   ]
  },
  {
   "cell_type": "markdown",
   "metadata": {
    "editable": true
   },
   "source": [
    "### Create month temperature (Dimension Table)"
   ]
  },
  {
   "cell_type": "code",
   "execution_count": 47,
   "metadata": {
    "editable": true
   },
   "outputs": [],
   "source": [
    "month_temp_df = df_temp.select(\"c_code\", \"year\", \"month\", \"avg_temperature\").drop_duplicates()"
   ]
  },
  {
   "cell_type": "markdown",
   "metadata": {
    "editable": true
   },
   "source": [
    "### Create Time (Dimension Table)"
   ]
  },
  {
   "cell_type": "code",
   "execution_count": 48,
   "metadata": {
    "editable": true
   },
   "outputs": [],
   "source": [
    "df_time = df_i94.withColumn(\"dayofweek\", dayofweek(\"date\"))\\\n",
    "                .withColumn(\"weekofyear\", weekofyear(\"date\"))\\\n",
    "                .withColumn(\"month\", month(\"date\"))\n",
    "\n",
    "df_time = df_time.select(\"date\", \"dayofweek\", \"weekofyear\", \"month\").drop_duplicates()"
   ]
  },
  {
   "cell_type": "markdown",
   "metadata": {
    "editable": true
   },
   "source": [
    "### Create immigration (Fact Table)"
   ]
  },
  {
   "cell_type": "code",
   "execution_count": 49,
   "metadata": {
    "editable": true
   },
   "outputs": [],
   "source": [
    "df_immigration  = df_i94.select(\"id\", \"s_code\", \"c_code\", \"date\", \"count\").drop_duplicates()"
   ]
  },
  {
   "cell_type": "markdown",
   "metadata": {
    "editable": true
   },
   "source": [
    "### Save all tables as parquet files"
   ]
  },
  {
   "cell_type": "code",
   "execution_count": 23,
   "metadata": {
    "editable": true
   },
   "outputs": [],
   "source": [
    "df_i94.write.mode(\"overwrite\").partitionBy(\"gender\", \"age\").parquet(\"immigrants\")\n",
    "df_city.write.mode(\"overwrite\").partitionBy(\"s_code\").parquet(\"cities\")\n",
    "month_temp_df.write.mode(\"overwrite\").parquet(\"monthly_city_temperatues\")\n",
    "df_time.write.mode(\"overwrite\").parquet(\"time\")\n",
    "df_i94.write.mode(\"overwrite\").partitionBy(\"s_code\", \"c_code\").parquet(\"immigration\")"
   ]
  },
  {
   "cell_type": "markdown",
   "metadata": {
    "editable": true
   },
   "source": [
    "#### 4.2 Data Quality Checks\n",
    "Explain the data quality checks you'll perform to ensure the pipeline ran as expected. These could include:\n",
    " * Integrity constraints on the relational database (e.g., unique key, data type, etc.)\n",
    " * Unit tests for the scripts to ensure they are doing the right thing\n",
    " * Source/Count checks to ensure completeness\n",
    " \n",
    "Run Quality Checks"
   ]
  },
  {
   "cell_type": "markdown",
   "metadata": {
    "editable": true
   },
   "source": [
    "### Ensure all tables are exist"
   ]
  },
  {
   "cell_type": "code",
   "execution_count": 23,
   "metadata": {
    "editable": true
   },
   "outputs": [
    {
     "name": "stdout",
     "output_type": "stream",
     "text": [
      "quality check succeeded\n"
     ]
    }
   ],
   "source": [
    "def is_table_exists(df):\n",
    "    if df is not None:\n",
    "        return True\n",
    "    else:\n",
    "        return False\n",
    "\n",
    "if is_table_exists(df_immigrant) & is_table_exists(df_city) & is_table_exists(month_temp_df) & is_table_exists(df_time) & is_table_exists(df_immigration):\n",
    "    print(\"quality check succeeded\")\n",
    "else:\n",
    "    print(\"quality check failed\")"
   ]
  },
  {
   "cell_type": "markdown",
   "metadata": {
    "editable": true
   },
   "source": [
    "### Ensure all tables are not empty"
   ]
  },
  {
   "cell_type": "code",
   "execution_count": 24,
   "metadata": {
    "editable": true
   },
   "outputs": [
    {
     "name": "stdout",
     "output_type": "stream",
     "text": [
      "quality check succeeded\n"
     ]
    }
   ],
   "source": [
    "def is_table_empty(df):\n",
    "    return df.count() != 0 \n",
    "\n",
    "if is_table_empty(df_immigrant) & is_table_empty(df_city) & is_table_empty(month_temp_df) & is_table_empty(df_time) & is_table_empty(df_immigration):\n",
    "    print(\"quality check succeeded\")\n",
    "else:\n",
    "    print(\"quality check failed!\")"
   ]
  },
  {
   "cell_type": "markdown",
   "metadata": {
    "editable": true
   },
   "source": [
    "### Create tables"
   ]
  },
  {
   "cell_type": "code",
   "execution_count": 50,
   "metadata": {
    "editable": true
   },
   "outputs": [],
   "source": [
    "df_city.createOrReplaceTempView(\"city\")\n",
    "df_immigration.createOrReplaceTempView(\"immigration\")\n",
    "df_immigrant.createOrReplaceTempView(\"immigrant\")\n",
    "month_temp_df.createOrReplaceTempView(\"temperature\")\n",
    "df_time.createOrReplaceTempView(\"time\")"
   ]
  },
  {
   "cell_type": "code",
   "execution_count": 51,
   "metadata": {
    "editable": true
   },
   "outputs": [
    {
     "name": "stdout",
     "output_type": "stream",
     "text": [
      "root\n",
      " |-- id: double (nullable = true)\n",
      " |-- s_code: string (nullable = true)\n",
      " |-- c_code: string (nullable = true)\n",
      " |-- date: string (nullable = true)\n",
      " |-- count: double (nullable = true)\n",
      " |-- id: double (nullable = true)\n",
      " |-- gender: string (nullable = true)\n",
      " |-- age: double (nullable = true)\n",
      " |-- v_type: double (nullable = true)\n",
      " |-- date: string (nullable = true)\n",
      " |-- dayofweek: integer (nullable = true)\n",
      " |-- weekofyear: integer (nullable = true)\n",
      " |-- month: integer (nullable = true)\n",
      " |-- c_code: string (nullable = true)\n",
      " |-- year: integer (nullable = true)\n",
      " |-- month: integer (nullable = true)\n",
      " |-- avg_temperature: float (nullable = true)\n",
      " |-- c_code: string (nullable = true)\n",
      " |-- s_code: string (nullable = true)\n",
      " |-- c_name: string (nullable = true)\n",
      " |-- median_age: string (nullable = true)\n",
      " |-- pct_male_pop: double (nullable = true)\n",
      " |-- pct_female_pop: double (nullable = true)\n",
      " |-- pct_veterans: double (nullable = true)\n",
      " |-- pct_foreign_born: double (nullable = true)\n",
      " |-- pct_native_american: double (nullable = true)\n",
      " |-- pct_asian: double (nullable = true)\n",
      " |-- pct_black: double (nullable = true)\n",
      " |-- pct_hispanic_or_latino: double (nullable = true)\n",
      " |-- pct_white: double (nullable = true)\n",
      " |-- total_pop: string (nullable = true)\n",
      " |-- lat: string (nullable = true)\n",
      " |-- long: string (nullable = true)\n",
      "\n"
     ]
    }
   ],
   "source": [
    "spark.sql(\"\"\"\n",
    "SELECT * FROM immigration\n",
    "JOIN immigrant\n",
    "ON immigration.id = immigrant.id\n",
    "JOIN time\n",
    "ON time.date = immigration.date\n",
    "JOIN temperature\n",
    "ON temperature.c_code = immigration.c_code\n",
    "JOIN city\n",
    "ON immigration.c_code = city.c_code\n",
    "LIMIT 5\n",
    "\"\"\").printSchema()"
   ]
  },
  {
   "cell_type": "markdown",
   "metadata": {
    "editable": true
   },
   "source": [
    "### Most popular city for immigration"
   ]
  },
  {
   "cell_type": "code",
   "execution_count": 67,
   "metadata": {
    "editable": true
   },
   "outputs": [
    {
     "name": "stdout",
     "output_type": "stream",
     "text": [
      "+------+------+\n",
      "|c_code| count|\n",
      "+------+------+\n",
      "|   NYC|474904|\n",
      "|   MIA|329385|\n",
      "|   LOS|292243|\n",
      "|   SFR|148637|\n",
      "|   ORL|144693|\n",
      "|   HHW|137100|\n",
      "|   NEW|133376|\n",
      "|   CHI|126139|\n",
      "|   HOU| 95736|\n",
      "|   FTL| 91756|\n",
      "+------+------+\n",
      "\n"
     ]
    }
   ],
   "source": [
    "spark.sql(\"\"\"\n",
    "SELECT c_code, COUNT(c_code) as count FROM immigration\n",
    "GROUP BY c_code\n",
    "ORDER BY count DESC\n",
    "LIMIT 10\n",
    "\"\"\").show()"
   ]
  },
  {
   "cell_type": "markdown",
   "metadata": {
    "editable": true
   },
   "source": [
    "### AVG age of immigrants"
   ]
  },
  {
   "cell_type": "code",
   "execution_count": 68,
   "metadata": {
    "editable": true
   },
   "outputs": [
    {
     "name": "stdout",
     "output_type": "stream",
     "text": [
      "+----------------+\n",
      "|        avg(age)|\n",
      "+----------------+\n",
      "|41.7599608199143|\n",
      "+----------------+\n",
      "\n"
     ]
    }
   ],
   "source": [
    "spark.sql(\"\"\"\n",
    "SELECT AVG(age) FROM immigrant\n",
    "\"\"\").show()"
   ]
  },
  {
   "cell_type": "markdown",
   "metadata": {
    "editable": true
   },
   "source": [
    "### Gender distribution"
   ]
  },
  {
   "cell_type": "code",
   "execution_count": 71,
   "metadata": {
    "editable": true
   },
   "outputs": [
    {
     "name": "stdout",
     "output_type": "stream",
     "text": [
      "+------+-------+\n",
      "|gender|  count|\n",
      "+------+-------+\n",
      "|     M|1308290|\n",
      "|     F|1242009|\n",
      "|     X|    778|\n",
      "|     U|    325|\n",
      "|  null|      0|\n",
      "+------+-------+\n",
      "\n"
     ]
    }
   ],
   "source": [
    "spark.sql(\"\"\"\n",
    "SELECT gender, COUNT(gender) as count FROM immigrant\n",
    "GROUP BY gender\n",
    "ORDER BY count DESC\n",
    "\"\"\").show()"
   ]
  },
  {
   "cell_type": "markdown",
   "metadata": {
    "editable": true
   },
   "source": [
    "#### 4.3 Data dictionary \n",
    "We have 4 dimension tables:\n",
    "- immigrant\n",
    "    - id (Primary key)\n",
    "    - gender\n",
    "    - age\n",
    "    - v_type\n",
    "\n",
    "\n",
    "- city\n",
    "    - c_code\n",
    "    - s_code (Primary key)\n",
    "    - c_name\n",
    "    - median_age\n",
    "    - pct_male_pop\n",
    "    - pct_female_pop\n",
    "    - pct_veterans\n",
    "    - pct_foreign_born\n",
    "    - pct_native_american\n",
    "    - pct_asian\n",
    "    - pct_black\n",
    "    - pct_hispanic_or_latino\n",
    "    - pct_white\n",
    "    - total_pop\n",
    "    - lat\n",
    "    - long\n",
    "\n",
    "\n",
    "- temp\n",
    "    - c_code (Primary key)\n",
    "    - year\n",
    "    - month\n",
    "    - avg_temperature\n",
    "\n",
    "\n",
    "- time\n",
    "    - date (Primary key)\n",
    "    - dayofweek\n",
    "    - weekofyear\n",
    "    - month\n",
    "\n",
    "We have 1 fact table:\n",
    "- immigration\n",
    "    - id (Primary key)\n",
    "    - s_code\n",
    "    - c_code\n",
    "    - date\n",
    "    - count"
   ]
  },
  {
   "cell_type": "code",
   "execution_count": 27,
   "metadata": {
    "editable": true
   },
   "outputs": [
    {
     "name": "stdout",
     "output_type": "stream",
     "text": [
      "root\n",
      " |-- c_code: string (nullable = true)\n",
      " |-- s_code: string (nullable = true)\n",
      " |-- c_name: string (nullable = true)\n",
      " |-- median_age: string (nullable = true)\n",
      " |-- pct_male_pop: double (nullable = true)\n",
      " |-- pct_female_pop: double (nullable = true)\n",
      " |-- pct_veterans: double (nullable = true)\n",
      " |-- pct_foreign_born: double (nullable = true)\n",
      " |-- pct_native_american: double (nullable = true)\n",
      " |-- pct_asian: double (nullable = true)\n",
      " |-- pct_black: double (nullable = true)\n",
      " |-- pct_hispanic_or_latino: double (nullable = true)\n",
      " |-- pct_white: double (nullable = true)\n",
      " |-- total_pop: string (nullable = true)\n",
      " |-- lat: string (nullable = true)\n",
      " |-- long: string (nullable = true)\n",
      "\n"
     ]
    }
   ],
   "source": [
    "df_city.printSchema()"
   ]
  },
  {
   "cell_type": "code",
   "execution_count": 28,
   "metadata": {
    "editable": true
   },
   "outputs": [
    {
     "name": "stdout",
     "output_type": "stream",
     "text": [
      "root\n",
      " |-- id: double (nullable = true)\n",
      " |-- s_code: string (nullable = true)\n",
      " |-- c_code: string (nullable = true)\n",
      " |-- date: string (nullable = true)\n",
      " |-- count: double (nullable = true)\n",
      "\n"
     ]
    }
   ],
   "source": [
    "df_immigration.printSchema()"
   ]
  },
  {
   "cell_type": "code",
   "execution_count": 29,
   "metadata": {
    "editable": true
   },
   "outputs": [
    {
     "name": "stdout",
     "output_type": "stream",
     "text": [
      "root\n",
      " |-- c_code: string (nullable = true)\n",
      " |-- year: integer (nullable = true)\n",
      " |-- month: integer (nullable = true)\n",
      " |-- avg_temperature: float (nullable = true)\n",
      "\n"
     ]
    }
   ],
   "source": [
    "month_temp_df.printSchema()"
   ]
  },
  {
   "cell_type": "code",
   "execution_count": 30,
   "metadata": {
    "editable": true
   },
   "outputs": [
    {
     "name": "stdout",
     "output_type": "stream",
     "text": [
      "root\n",
      " |-- date: string (nullable = true)\n",
      " |-- dayofweek: integer (nullable = true)\n",
      " |-- weekofyear: integer (nullable = true)\n",
      " |-- month: integer (nullable = true)\n",
      "\n"
     ]
    }
   ],
   "source": [
    "df_time.printSchema()"
   ]
  },
  {
   "cell_type": "code",
   "execution_count": 31,
   "metadata": {
    "editable": true
   },
   "outputs": [
    {
     "name": "stdout",
     "output_type": "stream",
     "text": [
      "root\n",
      " |-- id: double (nullable = true)\n",
      " |-- gender: string (nullable = true)\n",
      " |-- age: double (nullable = true)\n",
      " |-- v_type: double (nullable = true)\n",
      "\n"
     ]
    }
   ],
   "source": [
    "df_immigrant.printSchema()"
   ]
  },
  {
   "cell_type": "markdown",
   "metadata": {
    "editable": true
   },
   "source": [
    "#### Step 5: Complete Project Write Up\n",
    "* We chosed to work with spark as it good for processing large amount of data, and can be easily scaled up by adding more nodes\n",
    "* We can update our data once every month to keep updated with temperature data\n",
    "* The data was increased by 100x: We can add more work node to be able to handle this large amount of data\n",
    "* The data populates a dashboard that must be updated on a daily basis by 7am every day: We can use AirFlow with its DAGs and schedulers\n",
    "* The database needed to be accessed by 100+ people: We can create a Data Warehouse or data lake, for example, we can use more EC2s, as a data warehouse or data lake consist of clusters, and have more processing power, and more storage capacity, which makes it accessible by +100 users"
   ]
  },
  {
   "cell_type": "code",
   "execution_count": null,
   "metadata": {
    "editable": true
   },
   "outputs": [],
   "source": []
  }
 ],
 "metadata": {
  "kernelspec": {
   "display_name": "Python 3",
   "language": "python",
   "name": "python3"
  },
  "language_info": {
   "codemirror_mode": {
    "name": "ipython",
    "version": 3
   },
   "file_extension": ".py",
   "mimetype": "text/x-python",
   "name": "python",
   "nbconvert_exporter": "python",
   "pygments_lexer": "ipython3",
   "version": "3.6.3"
  }
 },
 "nbformat": 4,
 "nbformat_minor": 4
}
